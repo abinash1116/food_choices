{
 "cells": [
  {
   "cell_type": "code",
   "execution_count": null,
   "id": "96551582-3376-4380-8fc8-6fe82bbfa917",
   "metadata": {},
   "outputs": [],
   "source": []
  }
 ],
 "metadata": {
  "kernelspec": {
   "display_name": "",
   "name": ""
  },
  "language_info": {
   "name": ""
  }
 },
 "nbformat": 4,
 "nbformat_minor": 5
}
